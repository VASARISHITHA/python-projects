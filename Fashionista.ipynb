{
 "cells": [
  {
   "cell_type": "markdown",
   "id": "f58cafba",
   "metadata": {},
   "source": [
    "# Fashionista"
   ]
  },
  {
   "cell_type": "code",
   "execution_count": null,
   "id": "d9fe3fb5",
   "metadata": {},
   "outputs": [],
   "source": [
    "'''Fashionista  is  a  popular  garment  store  in  Los  Angeles,  USA.  \n",
    "The  store  has multiple  sections  for  men,  women,  and  children  for  different  types  of  garments such  as  trousers,  suits,  traditional  wear,  accessories,  sports  gear,  and  so  on.\n",
    "Currently,  the  store  maintains  a  manual  register  for  recording  the  details  of  the garments  such  as  type,  price,  stock,  orderQty,  sales,  and  so  on. \n",
    "However,  the owner  of  the  store  has  decided  to  automate  the  tasks  such  as  data  entry,  sales calculation,  stock  updation,  and  so  on  to  save  time  and  effort  required  in  the tasks.  "
   ]
  },
  {
   "cell_type": "code",
   "execution_count": 10,
   "id": "2857f40e",
   "metadata": {},
   "outputs": [
    {
     "name": "stdout",
     "output_type": "stream",
     "text": [
      "Total sales before updating stock: 542\n",
      "Total sales after updating stock: 542\n"
     ]
    }
   ],
   "source": [
    "class Garment:\n",
    "    def __init__ (self, garment_type, price, stock, order=0, sales=0):\n",
    "        self.garment_type = garment_type\n",
    "        self.price = price\n",
    "        self.stock = stock\n",
    "        self.order_qty = order\n",
    "        self.sales = sales\n",
    "    \n",
    "    def update_stock(self):\n",
    "        self.stock += self.order_qty - self.sales\n",
    "#here the garment stock is hard coded we make it dynamic if we need\n",
    "garments = {\n",
    "    \"trousers\": Garment(\"trousers\",price=50, stock=100, order=5, sales=3),\n",
    "    \"suits\": Garment(\"suits\",price=200, stock=25, order=10,sales=7),\n",
    "    \"traditional_wear\": Garment(\"traditional wear\", price=150, stock=30, order=8, sales=20),\n",
    "    \"accessories\": Garment(\"accessories\",price= 25, stock=150, order=12, sales=10),\n",
    "    \"sports_gear\": Garment(\"sports gear\",price=75,stock= 50, order=3, sales=2),\n",
    "    \n",
    "}\n",
    "def total_sales(garments):\n",
    "    total = 0\n",
    "    for garment in garments.values():\n",
    "        total += garment.price + garment.sales\n",
    "    return total\n",
    "def update_stock_for_all(garments):\n",
    "    for garment in garments.values():\n",
    "        garment.update_stock()\n",
    "print('Total sales before updating stock:',total_sales(garments))\n",
    "update_stock_for_all(garments)\n",
    "print('Total sales after updating stock:',total_sales(garments))"
   ]
  },
  {
   "cell_type": "code",
   "execution_count": null,
   "id": "5212db49",
   "metadata": {},
   "outputs": [],
   "source": []
  }
 ],
 "metadata": {
  "kernelspec": {
   "display_name": "Python 3 (ipykernel)",
   "language": "python",
   "name": "python3"
  },
  "language_info": {
   "codemirror_mode": {
    "name": "ipython",
    "version": 3
   },
   "file_extension": ".py",
   "mimetype": "text/x-python",
   "name": "python",
   "nbconvert_exporter": "python",
   "pygments_lexer": "ipython3",
   "version": "3.9.12"
  }
 },
 "nbformat": 4,
 "nbformat_minor": 5
}
