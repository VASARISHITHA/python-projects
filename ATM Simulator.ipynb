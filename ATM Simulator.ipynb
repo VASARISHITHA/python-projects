{
 "cells": [
  {
   "cell_type": "code",
   "execution_count": 3,
   "id": "89c43bf4-4fa6-45a8-9ceb-8a1810451e02",
   "metadata": {},
   "outputs": [
    {
     "name": "stdin",
     "output_type": "stream",
     "text": [
      "Enter amount to be deposited:  40000\n"
     ]
    },
    {
     "name": "stdout",
     "output_type": "stream",
     "text": [
      "\n",
      " Amount Deposited: 40000.0\n"
     ]
    },
    {
     "name": "stdin",
     "output_type": "stream",
     "text": [
      "Enter amount to be withdrawn:  35000\n"
     ]
    },
    {
     "name": "stdout",
     "output_type": "stream",
     "text": [
      "\n",
      " You Withdrew: 35000.0\n",
      "\n",
      " Net Available Balance = 5500.0\n"
     ]
    }
   ],
   "source": [
    "class Bankaccount:\n",
    "    def __init__(self,amount,balance):\n",
    "        self.amount=amount\n",
    "        self.balance=balance\n",
    "        \n",
    "\n",
    "    def deposit(self):\n",
    "        amount = float(input(\"Enter amount to be deposited: \"))\n",
    "        self.balance += amount\n",
    "        print(\"\\n Amount Deposited:\", amount)\n",
    "\n",
    "    # Function to withdraw the amount\n",
    "    def withdraw(self):\n",
    "        amount = float(input(\"Enter amount to be withdrawn: \"))\n",
    "        if self.balance >= amount:\n",
    "            self.balance -= amount\n",
    "            print(\"\\n You Withdrew:\", amount)\n",
    "        else:\n",
    "            print(\"\\n Insufficient balance  \")\n",
    "\n",
    "    # Function to display the amount\n",
    "    def display(self):\n",
    "        print(\"\\n Net Available Balance =\", self.balance)\n",
    "# creating an object of class\n",
    "s = Bankaccount(400,500)\n",
    "s.deposit()\n",
    "s.withdraw()\n",
    "s.display()\n"
   ]
  },
  {
   "cell_type": "code",
   "execution_count": null,
   "id": "621a54ee-6113-49fa-82d5-5ac1990c71c1",
   "metadata": {},
   "outputs": [],
   "source": []
  }
 ],
 "metadata": {
  "kernelspec": {
   "display_name": "Python 3 (ipykernel)",
   "language": "python",
   "name": "python3"
  },
  "language_info": {
   "codemirror_mode": {
    "name": "ipython",
    "version": 3
   },
   "file_extension": ".py",
   "mimetype": "text/x-python",
   "name": "python",
   "nbconvert_exporter": "python",
   "pygments_lexer": "ipython3",
   "version": "3.9.12"
  }
 },
 "nbformat": 4,
 "nbformat_minor": 5
}
