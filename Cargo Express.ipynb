{
 "cells": [
  {
   "cell_type": "markdown",
   "id": "47c9100c",
   "metadata": {},
   "source": [
    "# cargo express"
   ]
  },
  {
   "cell_type": "code",
   "execution_count": null,
   "id": "eb9bc0e7",
   "metadata": {},
   "outputs": [],
   "source": [
    "\"\"\"CARGO EXPRESS is a full-time courier and cargo dispatch agency for corporate companies around the world. It mainly deals with delivering and tracking the packages delivered. TRON EXPRESS has its annual budget session during the end of year. The company has more than 30,000 full-time employees, 5,00,000 customers per month, and an average of 3 million packages a day. The manner in which the company structures pay scales is different for permanent and temporary staff. Some of the criteria which the company uses to decide the pay are as follows:\n",
    "1. Number of packages being delivered: Permanent employees get $50 for every package they deliver, whereas temporary employees get $30 for every delivered package.\n",
    "2. The distance they travel: Permanent employees get a daily allowance of $75 for their travel. Similarly, temporary employees get a daily allowance of $65 for their travel.\n",
    "3. Shifts: People who work for the night shift get an additional pay of 10% over and above their regular pay.\n",
    "Depending on all these factors, the basic pay structure is decided.\n",
    "Now, the company wants to reward the employees with bonuses based on their grade as follows: (Assume that grade is provided as input.)\n",
    "Grade A1: 5% of basic pay\n",
    "Grade A2: 10% of basic pay\n",
    "Grade A3: 15% of basic pay\n",
    "With all the information provided, use all possible type of statements and expressions and design a Python program to help the management to calculate the net pay (basic added to bonus) for employees.\"\"\""
   ]
  },
  {
   "cell_type": "code",
   "execution_count": 1,
   "id": "162cc88a",
   "metadata": {},
   "outputs": [
    {
     "name": "stdout",
     "output_type": "stream",
     "text": [
      "Enter the grade:A1\n",
      "Enter the packages delieverd on a day1200\n",
      "The final salary\n",
      "----------------------------------------\n",
      "Permanent employee salary\n",
      "Basic pay 5000\n",
      "Bonus 250.0\n",
      "Netpay of employee 95750.0\n",
      "----------------------------------------\n",
      "Temporary employee salary\n",
      "Basic pay 3000\n",
      "Bonus 150.0\n",
      "Netpay of employee 63450.0\n",
      "----------------------------------------\n"
     ]
    }
   ],
   "source": [
    "def sal(grade,package):\n",
    "    # lets assume the basic delivery of packages is 10\n",
    "    p_sal = 5000\n",
    "    t_sal = 3000\n",
    "    p_package_amount = package*75\n",
    "    t_package_amount = package*50\n",
    "    p_night = float(p_sal*0.10)\n",
    "    t_night = float(t_sal*0.10)\n",
    "    \n",
    "    if grade == 'A1':\n",
    "        p_bonus = float(p_sal*0.05) \n",
    "        t_bonus = float(t_sal*0.05) \n",
    "    elif grade == 'A2':\n",
    "        p_bonus = float(p_sal*0.10) \n",
    "        t_bonus = float(t_sal*0.10) \n",
    "    elif grade == 'A3':\n",
    "        p_bonus = float(p_sal*0.15) \n",
    "        t_bonus = float(t_sal*0.15) \n",
    "    print('The final salary')\n",
    "    print('----------------------------------------')\n",
    "    print('Permanent employee salary')\n",
    "    print('Basic pay',p_sal)\n",
    "    print('Bonus',p_bonus)\n",
    "    print('Netpay of employee',p_sal+p_package_amount+p_bonus+p_night)\n",
    "    print('----------------------------------------')\n",
    "    print('Temporary employee salary')\n",
    "    print('Basic pay',t_sal)\n",
    "    print('Bonus',t_bonus)\n",
    "    print('Netpay of employee',t_sal+t_package_amount+t_bonus+t_night)\n",
    "    print('----------------------------------------')\n",
    "if __name__ == '__main__':\n",
    "    grade = input('Enter the grade:')\n",
    "    package = int(input('Enter the packages delieverd on a day'))\n",
    "    sal(grade,package)\n"
   ]
  },
  {
   "cell_type": "code",
   "execution_count": null,
   "id": "8dc0c382",
   "metadata": {},
   "outputs": [],
   "source": []
  }
 ],
 "metadata": {
  "kernelspec": {
   "display_name": "Python 3 (ipykernel)",
   "language": "python",
   "name": "python3"
  },
  "language_info": {
   "codemirror_mode": {
    "name": "ipython",
    "version": 3
   },
   "file_extension": ".py",
   "mimetype": "text/x-python",
   "name": "python",
   "nbconvert_exporter": "python",
   "pygments_lexer": "ipython3",
   "version": "3.9.12"
  }
 },
 "nbformat": 4,
 "nbformat_minor": 5
}
