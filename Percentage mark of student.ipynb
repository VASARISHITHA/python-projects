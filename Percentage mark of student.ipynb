{
 "cells": [
  {
   "cell_type": "markdown",
   "id": "e04f7017",
   "metadata": {},
   "source": [
    "# find percentage mark of student"
   ]
  },
  {
   "cell_type": "code",
   "execution_count": null,
   "id": "0e473f87",
   "metadata": {},
   "outputs": [],
   "source": [
    "''''write a python program to find percentage of marks of students in 5 subject\n",
    "percentage above or equal to 60-first division\n",
    "percentage between 50 and 59-first division\n",
    "percentage between 40 and 49-second division\n",
    "percentage less than 40-fail'''"
   ]
  },
  {
   "cell_type": "code",
   "execution_count": 3,
   "id": "41d2c7ec",
   "metadata": {},
   "outputs": [
    {
     "name": "stdout",
     "output_type": "stream",
     "text": [
      "enter a english mark67\n",
      "enter a math mark89\n",
      "enter a telugu mark82\n",
      "enter a gk marks56\n",
      "enter a social marks68\n",
      "--------------------------------------------------\n",
      "percentage: 72.4\n",
      "result: first\n"
     ]
    }
   ],
   "source": [
    "percentage= division=None\n",
    "eng=int(input(\"enter a english mark\"))\n",
    "math=int(input(\"enter a math mark\"))\n",
    "telugu=int(input(\"enter a telugu mark\"))\n",
    "gk=int(input(\"enter a gk marks\"))\n",
    "social=int(input(\"enter a social marks\"))\n",
    "percentage=(eng+math+telugu+gk+social)/5\n",
    "if percentage>=60:\n",
    "    division='first'\n",
    "elif percentage>=50 and percentage<=59:\n",
    "    division='second'\n",
    "elif percentage>=40 and percentage<=49:\n",
    "    division='third'\n",
    "else:\n",
    "    division='fail'\n",
    "print('-'*50)\n",
    "print('percentage:',percentage)\n",
    "print('result:',division)\n",
    "\n",
    "\n"
   ]
  },
  {
   "cell_type": "code",
   "execution_count": null,
   "id": "60d47330",
   "metadata": {},
   "outputs": [],
   "source": []
  }
 ],
 "metadata": {
  "kernelspec": {
   "display_name": "Python 3 (ipykernel)",
   "language": "python",
   "name": "python3"
  },
  "language_info": {
   "codemirror_mode": {
    "name": "ipython",
    "version": 3
   },
   "file_extension": ".py",
   "mimetype": "text/x-python",
   "name": "python",
   "nbconvert_exporter": "python",
   "pygments_lexer": "ipython3",
   "version": "3.9.12"
  }
 },
 "nbformat": 4,
 "nbformat_minor": 5
}
