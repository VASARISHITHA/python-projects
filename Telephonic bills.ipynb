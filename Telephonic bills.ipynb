{
 "cells": [
  {
   "cell_type": "markdown",
   "id": "108acb01",
   "metadata": {},
   "source": [
    "# calculate telephone bills"
   ]
  },
  {
   "cell_type": "code",
   "execution_count": null,
   "id": "3c922620",
   "metadata": {},
   "outputs": [],
   "source": [
    "'''Write a program to calculate the monthly telephone bills as per the following rule:\n",
    "\n",
    "Minimum Rs. 200 for upto 100 calls. \n",
    "Plus Rs. 0.60 per call for next 50 calls. \n",
    "Plus Rs. 0.50 per call for next 50 calls. \n",
    "Plus Rs. 0.40 per call for any call beyond 200 calls.'''"
   ]
  },
  {
   "cell_type": "code",
   "execution_count": 1,
   "id": "c840a797",
   "metadata": {},
   "outputs": [
    {
     "name": "stdout",
     "output_type": "stream",
     "text": [
      "Enter the total number of calls: 145\n",
      "Monthly telephone bill: Rs. 227.0\n"
     ]
    }
   ],
   "source": [
    "def calculate_telephone_bill(total_calls):\n",
    "    bill = 200\n",
    "    if total_calls > 100:\n",
    "        bill += (min(total_calls,200)-100)*0.60\n",
    "    if total_calls > 150:\n",
    "        bill += (min(total_calls, 200) - 150) * 0.50\n",
    "    if total_calls > 200:\n",
    "        bill += (total_calls - 200) * 0.40\n",
    "    \n",
    "    return bill\n",
    "\n",
    "total_calls = int(input(\"Enter the total number of calls: \"))\n",
    "monthly_bill = calculate_telephone_bill(total_calls)\n",
    "print(\"Monthly telephone bill: Rs.\", monthly_bill)\n"
   ]
  },
  {
   "cell_type": "code",
   "execution_count": null,
   "id": "220b52a6",
   "metadata": {},
   "outputs": [],
   "source": []
  }
 ],
 "metadata": {
  "kernelspec": {
   "display_name": "Python 3 (ipykernel)",
   "language": "python",
   "name": "python3"
  },
  "language_info": {
   "codemirror_mode": {
    "name": "ipython",
    "version": 3
   },
   "file_extension": ".py",
   "mimetype": "text/x-python",
   "name": "python",
   "nbconvert_exporter": "python",
   "pygments_lexer": "ipython3",
   "version": "3.9.12"
  }
 },
 "nbformat": 4,
 "nbformat_minor": 5
}
